{
  "nbformat": 4,
  "nbformat_minor": 0,
  "metadata": {
    "colab": {
      "provenance": [],
      "authorship_tag": "ABX9TyPzVnQF7jycHFW+rZ9tYXeY",
      "include_colab_link": true
    },
    "kernelspec": {
      "name": "python3",
      "display_name": "Python 3"
    },
    "language_info": {
      "name": "python"
    }
  },
  "cells": [
    {
      "cell_type": "markdown",
      "metadata": {
        "id": "view-in-github",
        "colab_type": "text"
      },
      "source": [
        "<a href=\"https://colab.research.google.com/github/ankiboyz/SQL/blob/main/SQL.ipynb\" target=\"_parent\"><img src=\"https://colab.research.google.com/assets/colab-badge.svg\" alt=\"Open In Colab\"/></a>"
      ]
    },
    {
      "cell_type": "markdown",
      "source": [
        "This repository is all about questions on SQL.\n",
        "\n",
        "\n",
        "---\n",
        "\n",
        "Author: Ankur Saxena\n",
        "\n",
        "You Tube: Linked In: Facebook Group:"
      ],
      "metadata": {
        "id": "tgQxRQIbtzGy"
      }
    },
    {
      "cell_type": "markdown",
      "source": [
        "#Code of Honor:\n",
        "Please look into the solution only once you have attempted the question at your end.\n",
        "These questions are amalgamation of innumerous hours of self practice put into becoming a great data scientist.The idea here is to share with you the same to help in your journey to greatness; kindly do give these an honest try and look for various ways in which the solution can be made more efficient (query performance at the same time sufficing the functional requirement)."
      ],
      "metadata": {
        "id": "E3qHUsa0uIfu"
      }
    },
    {
      "cell_type": "markdown",
      "source": [
        "# Section - Introductory Queries"
      ],
      "metadata": {
        "id": "nXa1zxx8u7iB"
      }
    },
    {
      "cell_type": "markdown",
      "source": [
        "## Q1.Find all the titles of the movies as \"Title\" in upper case and concatenate the title with the respective tagline of the movie separated by a hyphen(-) for the Top 10 highest revenue movies. \n",
        "Return the column as 'Title'.\n",
        "Note: For example, the 'Title' should be displayed as 'JURASSIC WORLD-THE PARK IS OPEN.'\n",
        "\n",
        "\n"
      ],
      "metadata": {
        "id": "lHLFiPe6wPtx"
      }
    },
    {
      "cell_type": "markdown",
      "source": [
        "###Solution(Way#1) : We can simply use the Concatenation to concat the various columns as output as one string.\n"
      ],
      "metadata": {
        "id": "MA67EBYdxUI6"
      }
    },
    {
      "cell_type": "markdown",
      "source": [
        "####SQL query as follows\n",
        "\n",
        "```\n",
        "SELECT CONCAT(UPPER(original_title),'-',UPPER(tagline)) AS Title FROM movies \n",
        "ORDER BY revenue DESC LIMIT 10\n",
        "```\n",
        "\n"
      ],
      "metadata": {
        "id": "0opikCsbx2Mj"
      }
    },
    {
      "cell_type": "markdown",
      "source": [
        "##Q2. Find all the titles of the movies directed by 'Noah Baumbach' from the given movies dataset.\n",
        "Return the column 'original_title '."
      ],
      "metadata": {
        "id": "VVqJpcEWyNg5"
      }
    },
    {
      "cell_type": "markdown",
      "source": [
        "### Solution: A simple query with a where clause"
      ],
      "metadata": {
        "id": "7tjcADkLyzmM"
      }
    },
    {
      "cell_type": "markdown",
      "source": [
        "#### SQL Query as follows:\n",
        "\n",
        "\n",
        "```\n",
        "SELECT original_title FROM movies WHERE director = 'Noah Baumbach'\n",
        "```\n",
        "\n"
      ],
      "metadata": {
        "id": "VaorRhNNy9rj"
      }
    },
    {
      "cell_type": "code",
      "execution_count": null,
      "metadata": {
        "id": "9_mJ6WmhthZd"
      },
      "outputs": [],
      "source": []
    },
    {
      "cell_type": "markdown",
      "source": [
        "##Q3. Find all the movie titles and their cast that belongs to the 'Comedy' genre using the movies table.\n",
        "\n",
        "Return the column 'original_title' , 'cast'.\n"
      ],
      "metadata": {
        "id": "nYH9UewSzN9S"
      }
    },
    {
      "cell_type": "markdown",
      "source": [
        "### Solution: Basically use the WHERE clause.\n"
      ],
      "metadata": {
        "id": "KL8EbFgYzW2C"
      }
    },
    {
      "cell_type": "markdown",
      "source": [
        "#### The Query is as follows:\n",
        "\n",
        "\n",
        "```\n",
        "SELECT original_title ,cast FROM movies \n",
        "WHERE genres IN ('Comedy')\n",
        "```\n",
        "\n"
      ],
      "metadata": {
        "id": "wHRbS2f3zuRZ"
      }
    },
    {
      "cell_type": "markdown",
      "source": [
        "## Q4. Calculate the weighted average rating from the columns vote count and vote average and save the column as 'Weighted_avg_rating' and display the top 10 movies and their rating up to two decimals based on the new column created.\n",
        "\n",
        "Note: Use the given formula to calculate a weighted average rating (v/(v+m) * R) + (m/(m+v) * C )\n",
        "\n",
        "Where,\n",
        "\n",
        "v is the number of votes for the movie vote_count;\n",
        "\n",
        "m is the minimum votes required, take m as 104.0;\n",
        "\n",
        "R is the average rating of the movie vote_average;\n",
        "\n",
        "C is the mean vote across the whole report take c as 5.97.\n",
        "\n",
        "Return the columns 'original_title' , 'Weighted_avg_rating'"
      ],
      "metadata": {
        "id": "YBbcmUHPz8Mi"
      }
    },
    {
      "cell_type": "markdown",
      "source": [
        "### Solution: Basically put up the formula and return the field as the alias.  "
      ],
      "metadata": {
        "id": "qirZPJZp0qLR"
      }
    },
    {
      "cell_type": "markdown",
      "source": [
        "#### The query is as follows.\n",
        "\n",
        "\n",
        "```\n",
        "SELECT original_title, \n",
        "ROUND((vote_count/(vote_count+104.0)* vote_average) + (104.0/(104.0+vote_count)*5.97),2) AS Weighted_avg_rating\n",
        "FROM movies \n",
        "ORDER BY Weighted_avg_rating desc\n",
        "-- ORDER BY Weighted_avg_rating\n",
        "LIMIT 10\n",
        "```\n",
        "\n"
      ],
      "metadata": {
        "id": "UzvFORJA04tz"
      }
    },
    {
      "cell_type": "markdown",
      "source": [
        "## Q5. Find the movie titles, taglines, and directors for the top 5 popular movies.\n",
        "\n",
        "Return the columns 'original_title', 'tagline', and 'director'."
      ],
      "metadata": {
        "id": "bwfaHLcG1ChV"
      }
    },
    {
      "cell_type": "markdown",
      "source": [
        "### Solution: Here we order by the DESC order of Popularity and then take the Top 5"
      ],
      "metadata": {
        "id": "KAxAaXKE1YB7"
      }
    },
    {
      "cell_type": "markdown",
      "source": [
        "#### The Query is as follows:\n",
        "\n",
        "\n",
        "```\n",
        "SELECT original_title ,tagline ,director FROM movies\n",
        "ORDER BY popularity DESC LIMIT 5\n",
        "```\n",
        "\n"
      ],
      "metadata": {
        "id": "OrsR8iip1kC7"
      }
    },
    {
      "cell_type": "markdown",
      "source": [
        "# Section - Filtering and Subqueries"
      ],
      "metadata": {
        "id": "tKVehlpB1yrT"
      }
    },
    {
      "cell_type": "markdown",
      "source": [
        "## Q1. Show the titles of the movies that are released after 2014 and have an average vote rating greater than 7.\n",
        "\n",
        "Return the column 'original_title'"
      ],
      "metadata": {
        "id": "VMlCxLyc17q7"
      }
    },
    {
      "cell_type": "markdown",
      "source": [
        "### Solution: Here, we have to filter out with two filters those are being applied."
      ],
      "metadata": {
        "id": "8e_i9lQj2Af9"
      }
    },
    {
      "cell_type": "markdown",
      "source": [
        "#### The Query is as follows:\n",
        "\n",
        "```\n",
        "SELECT original_title FROM movies WHERE\n",
        "release_year > 2014 AND vote_average > 7\n",
        "```\n",
        "\n"
      ],
      "metadata": {
        "id": "vu_WsZzz2JDz"
      }
    },
    {
      "cell_type": "markdown",
      "source": [
        "##Q2. List down all the movies along with their details that have keywords like 'sport' or 'sequel' or 'suspense'.\n",
        "\n",
        "Return the columns 'original_title', 'director', 'genres', 'cast', 'budget', 'revenue', 'runtime', and 'vote_average'."
      ],
      "metadata": {
        "id": "Us7ww30a2Qsi"
      }
    },
    {
      "cell_type": "markdown",
      "source": [
        "### Solution: Based on how the keywords field is storing the data , like it can store comma separated values of keywords , it can also be such that its storing only one keyword at a time , it can also store keywords like 'sporting', 'suspenseful' etc. Based on the data that is stored in keywords it can be of few of the many options as listed below."
      ],
      "metadata": {
        "id": "dtAxtAFX2WgM"
      }
    },
    {
      "cell_type": "markdown",
      "source": [
        "#### Query is as follows:\n",
        "\n",
        "```\n",
        "select original_title, director, genres, cast, budget, revenue, runtime, vote_average \n",
        "from movies \n",
        "where keywords ='sport' or \n",
        "keywords ='sequel' or \n",
        "keywords ='suspense'\n",
        "```\n",
        "OR \n",
        "\n",
        "```\n",
        "select original_title, director, genres, cast, budget, revenue, runtime, vote_average \n",
        "from movies \n",
        "where keywords in ('sport', 'sequel', 'suspense');\n",
        "```\n",
        "\n",
        "\n",
        "\n"
      ],
      "metadata": {
        "id": "gIF2EzAL3emq"
      }
    },
    {
      "cell_type": "markdown",
      "source": [
        "## Q3. Display all the details of the employees who did not work at any job in the past.\n",
        "\n",
        "Return all the columns from the employee's table."
      ],
      "metadata": {
        "id": "YvV23Opi3ura"
      }
    },
    {
      "cell_type": "markdown",
      "source": [
        "### Solution: There are couple of options to achieve this are listed below.\n"
      ],
      "metadata": {
        "id": "yVkuUr0Z6NwS"
      }
    },
    {
      "cell_type": "markdown",
      "source": [
        "#### Query is as follows:\n",
        "\n",
        "This is the sub query way.\n",
        "```\n",
        "SELECT * FROM employees \n",
        "WHERE employee_id NOT IN (select distinct employee_id from job_history )  \n",
        "```\n",
        "\n",
        "This is the Join way:\n",
        "\n",
        "```\n",
        "SELECT emp.*\n",
        "FROM \n",
        "\temployees emp LEFT JOIN job_history hist\n",
        "    ON emp.employee_id = hist.employee_id\n",
        "WHERE\n",
        "\thist.employee_id IS NULL;\n",
        "```\n",
        "\n",
        "\n"
      ],
      "metadata": {
        "id": "7CfbqBif6YsN"
      }
    },
    {
      "cell_type": "markdown",
      "source": [
        "## Q4. Find the details of employees who are not working in any department.\n",
        "\n",
        "Return the columns 'employee_id','first_name', 'last_name','job_id', and 'manager_id'."
      ],
      "metadata": {
        "id": "rQNrw0Ke6qtc"
      }
    },
    {
      "cell_type": "markdown",
      "source": [
        "### Solution: For queries like this we need to be very much aware of all the possible values those can be entered in the Department field. It could have one empty space as a  value, series of empty spaces as value, NULL as value , or in some cases as per the convention followed could have 0 as the value denoting NO depratment. Here it can have NULL or empty spaces, so in this light we need to handle this as follows."
      ],
      "metadata": {
        "id": "48kFjLRs60Rq"
      }
    },
    {
      "cell_type": "markdown",
      "source": [
        "####Query is as follows:\n",
        "\n",
        "\n",
        "```\n",
        "select employee_id,first_name, last_name,job_id, manager_id\n",
        "from employees where ((department_id IS NULL) OR (trim(department_id) = ''))\n",
        "```\n",
        "\n"
      ],
      "metadata": {
        "id": "56dFIgSe7as0"
      }
    },
    {
      "cell_type": "markdown",
      "source": [
        "##Q5. Find the employee's details who work in the same job as the employee with employee_id as 107.\n",
        "\n",
        "Return the columns 'full_name', 'salary', 'department_id', 'job_id'."
      ],
      "metadata": {
        "id": "L1WYr_c87sfT"
      }
    },
    {
      "cell_type": "markdown",
      "source": [
        "### Solution: Here we need to use the subquery to find out the job_id of 107 employee and return the needed details."
      ],
      "metadata": {
        "id": "dQkFpAdr73KL"
      }
    },
    {
      "cell_type": "markdown",
      "source": [
        "#### Query is as follows:\n",
        "\n",
        "This is the subquery way:\n",
        "\n",
        "\n",
        "```\n",
        "select concat(first_name,' ', last_name) as full_name, salary,department_id, job_id from employees \n",
        "where job_id = (select job_id from employees where employee_id = 107)\n",
        "```"
      ],
      "metadata": {
        "id": "otR-OLAW8D6b"
      }
    },
    {
      "cell_type": "markdown",
      "source": [
        "##Q6. Display the details of the movies which belong to the 'Horror' genre in descending order of popularity.\n",
        "\n",
        "Return the columns 'original_title', 'popularity'."
      ],
      "metadata": {
        "id": "-eVYBkdp8UNT"
      }
    },
    {
      "cell_type": "markdown",
      "source": [
        "### Solution: This can be done by Filtering the results and then ordering the results as per needed."
      ],
      "metadata": {
        "id": "A73dil3-8bPr"
      }
    },
    {
      "cell_type": "markdown",
      "source": [
        "#### Query is as follows:\n",
        "\n",
        "```\n",
        "SELECT original_title ,popularity FROM movies WHERE\n",
        "genres IN ('Horror') ORDER BY popularity DESC\n",
        "```\n",
        "\n"
      ],
      "metadata": {
        "id": "2DPGrvvm8k6z"
      }
    },
    {
      "cell_type": "markdown",
      "source": [
        "##Q7. Find the details of the movies that are released between the years 2012-2015 i.e, (Including 2012 and 2015).\n",
        "\n",
        "Return the columns 'original_title', 'genres', 'vote_average', and 'revenue'."
      ],
      "metadata": {
        "id": "L119UxdC8uci"
      }
    },
    {
      "cell_type": "markdown",
      "source": [
        "### Solution: Here in we need to apply the filter with between operator. The between operator includes the 'starting from' value and also the 'end to' value of the range."
      ],
      "metadata": {
        "id": "Nzic94Ki8yYM"
      }
    },
    {
      "cell_type": "markdown",
      "source": [
        "#### Query is as follows:\n",
        "\n",
        "\n",
        "```\n",
        "select original_title,genres,vote_average,revenue from movies where release_year \n",
        "between 2012 and 2015\n",
        "```\n",
        "OR\n",
        "\n",
        "\n",
        "```\n",
        "select original_title,genres,vote_average,revenue from movies where release_year >=2012 AND release_year <= 2015\n",
        "\n",
        "```\n",
        "\n",
        "\n"
      ],
      "metadata": {
        "id": "TWErahLd9MCN"
      }
    },
    {
      "cell_type": "markdown",
      "source": [
        "##Q8. Write a query to display the employee details who report to Adam. The reporting structure can be inferred from the manager_id column in the employee's table.\n",
        "\n",
        "Return the columns 'employee_id', 'full_name'(first name and last name separated by space), 'salary'."
      ],
      "metadata": {
        "id": "OE6hiVNd-4yE"
      }
    },
    {
      "cell_type": "markdown",
      "source": [
        "### Solution: Herein, all the employees reporting to first name as 'Adam' are to be reported. Now based on the way data in first name column is stored , like it can be stored as 'ADAM', 'adam', 'Adam', or any combo of upper and lower case.So based on the way it is stored caution needs be taken."
      ],
      "metadata": {
        "id": "awdlJ6xs_FWU"
      }
    },
    {
      "cell_type": "markdown",
      "source": [
        "#### Query is as follows:\n",
        "\n",
        "\n",
        "\n",
        "```\n",
        "select employee_id, concat(first_name, ' ', last_name) as full_name, salary\n",
        "from employees where manager_id IN (select employee_id from employees where first_name like '%Adam%' )\n",
        "```\n",
        "OR\n",
        "\n",
        "```\n",
        "select employee_id, concat(first_name, ' ', last_name) as full_name, salary\n",
        "from employees where manager_id IN (select employee_id from employees where upper(first_name) = 'ADAM' )\n",
        "```\n",
        "\n",
        "\n"
      ],
      "metadata": {
        "id": "lEqgWv5x_k8U"
      }
    },
    {
      "cell_type": "markdown",
      "source": [
        "##Q9. Display the details of the employees who work in the departments 50,10, or 80 and their salary is between 5000 to 10000 and also where employees have no commission_pct(commission percentage).\n",
        "\n",
        "Return the columns 'employee_id', 'first_name', 'last_name', 'salary'."
      ],
      "metadata": {
        "id": "386M9XaY_6Vk"
      }
    },
    {
      "cell_type": "markdown",
      "source": [
        "### Solution: This is majorly the application of the filter."
      ],
      "metadata": {
        "id": "Zfqva_dA_-8r"
      }
    },
    {
      "cell_type": "markdown",
      "source": [
        "#### Query is as below:\n",
        "\n",
        "\n",
        "```\n",
        "select employee_id, first_name, last_name, salary from employees \n",
        "where department_id IN (10,50,80) and salary between 5000 and 10000\n",
        "and commission_pct is NULL\n",
        "```\n",
        "\n"
      ],
      "metadata": {
        "id": "X43SpV-SAEEV"
      }
    },
    {
      "cell_type": "markdown",
      "source": [
        "##Q10.Find the details of the employees who are working in the departments 'Administration', 'Marketing', and 'Human Resources'.\n",
        "\n",
        "Return the columns 'employee_id', 'full_name'(first and last name separated by space), and 'salary'."
      ],
      "metadata": {
        "id": "6Dh9KMMOALAs"
      }
    },
    {
      "cell_type": "markdown",
      "source": [
        "### Solution: This is also testing the application of filter , wherein the to be filtered conditions is based on value from anotehr table."
      ],
      "metadata": {
        "id": "KGmjaExrAPTr"
      }
    },
    {
      "cell_type": "markdown",
      "source": [
        "####Query is as follows:\n",
        "\n",
        "```\n",
        "select employee_id, concat(first_name,' ', last_name) as full_name, salary\n",
        "from employees where department_id IN (select department_id from departments \n",
        "where department_name IN ('Administration','Marketing','Human Resources') )\n",
        "```\n",
        "\n"
      ],
      "metadata": {
        "id": "HufpQGpMAh8W"
      }
    },
    {
      "cell_type": "markdown",
      "source": [
        "##Q11. Find all the employees whose first name ends with the letter 'n'.\n",
        "\n",
        "Return the columns 'employee_id', 'full_name' (first name and last name separated by space), and 'phone_number'."
      ],
      "metadata": {
        "id": "5h_YiuoMAua1"
      }
    },
    {
      "cell_type": "markdown",
      "source": [
        "### Solution: This basically requires the understanding of the wild card characters."
      ],
      "metadata": {
        "id": "vQ7nDh6tAxBE"
      }
    },
    {
      "cell_type": "markdown",
      "source": [
        "#### Query is as follows:\n",
        "\n",
        "\n",
        "```\n",
        "select employee_id, concat(first_name, ' ', last_name) as full_name, phone_number\n",
        "from employees where first_name like '%n'\n",
        "```\n",
        "\n"
      ],
      "metadata": {
        "id": "9OMQc42TA9OM"
      }
    },
    {
      "cell_type": "markdown",
      "source": [
        "## Q12. Display the details of all the employees whose department location is in Seattle.\n",
        "\n",
        "Return the columns 'first_name', 'last_name', 'employee_id', and job_id'."
      ],
      "metadata": {
        "id": "V-oJHzb7BLQ2"
      }
    },
    {
      "cell_type": "markdown",
      "source": [
        "###Solution: This is basically way to get the to be filtered value hoping a coule of tables."
      ],
      "metadata": {
        "id": "aPXiKGgVBOUt"
      }
    },
    {
      "cell_type": "markdown",
      "source": [
        "#### Query is as follows:\n",
        "\n",
        "\n",
        "```\n",
        "SELECT first_name, last_name, employee_id, job_id\n",
        "FROM employees \n",
        "Where department_id IN \n",
        "(SELECT department_id from departments \n",
        "where location_id IN\n",
        "(SELECT location_id from locations where\n",
        "city = 'Seattle')\n",
        ")\n",
        "```\n",
        "\n"
      ],
      "metadata": {
        "id": "qF9Kn_pMBbOM"
      }
    },
    {
      "cell_type": "code",
      "source": [],
      "metadata": {
        "id": "A2GxTdcPA5ak"
      },
      "execution_count": null,
      "outputs": []
    },
    {
      "cell_type": "code",
      "source": [],
      "metadata": {
        "id": "mHaX3jBXAOmP"
      },
      "execution_count": null,
      "outputs": []
    }
  ]
}